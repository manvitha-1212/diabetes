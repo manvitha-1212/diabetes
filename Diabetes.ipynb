{
 "cells": [
  {
   "cell_type": "code",
   "execution_count": 1,
   "metadata": {
    "_cell_guid": "b1076dfc-b9ad-4769-8c92-a6c4dae69d19",
    "_uuid": "8f2839f25d086af736a60e9eeb907d3b93b6e0e5",
    "execution": {
     "iopub.execute_input": "2021-10-06T06:57:06.597370Z",
     "iopub.status.busy": "2021-10-06T06:57:06.596981Z",
     "iopub.status.idle": "2021-10-06T06:57:06.619965Z",
     "shell.execute_reply": "2021-10-06T06:57:06.619430Z",
     "shell.execute_reply.started": "2021-10-06T06:57:06.597299Z"
    }
   },
   "outputs": [
    {
     "data": {
      "text/plain": [
       "(768, 9)"
      ]
     },
     "execution_count": 1,
     "metadata": {},
     "output_type": "execute_result"
    }
   ],
   "source": [
    "import pandas as pd\n",
    "df=pd.read_csv(r'F:\\Desktop\\diabetes.csv')\n",
    "df.shape"
   ]
  },
  {
   "cell_type": "code",
   "execution_count": 2,
   "metadata": {
    "execution": {
     "iopub.execute_input": "2021-10-06T06:57:06.624341Z",
     "iopub.status.busy": "2021-10-06T06:57:06.623787Z",
     "iopub.status.idle": "2021-10-06T06:57:06.645062Z",
     "shell.execute_reply": "2021-10-06T06:57:06.644328Z",
     "shell.execute_reply.started": "2021-10-06T06:57:06.624297Z"
    }
   },
   "outputs": [
    {
     "data": {
      "text/html": [
       "<div>\n",
       "<style scoped>\n",
       "    .dataframe tbody tr th:only-of-type {\n",
       "        vertical-align: middle;\n",
       "    }\n",
       "\n",
       "    .dataframe tbody tr th {\n",
       "        vertical-align: top;\n",
       "    }\n",
       "\n",
       "    .dataframe thead th {\n",
       "        text-align: right;\n",
       "    }\n",
       "</style>\n",
       "<table border=\"1\" class=\"dataframe\">\n",
       "  <thead>\n",
       "    <tr style=\"text-align: right;\">\n",
       "      <th></th>\n",
       "      <th>Pregnancies</th>\n",
       "      <th>Glucose</th>\n",
       "      <th>BloodPressure</th>\n",
       "      <th>SkinThickness</th>\n",
       "      <th>Insulin</th>\n",
       "      <th>BMI</th>\n",
       "      <th>DiabetesPedigreeFunction</th>\n",
       "      <th>Age</th>\n",
       "      <th>Outcome</th>\n",
       "    </tr>\n",
       "  </thead>\n",
       "  <tbody>\n",
       "    <tr>\n",
       "      <th>0</th>\n",
       "      <td>6</td>\n",
       "      <td>148</td>\n",
       "      <td>72</td>\n",
       "      <td>35</td>\n",
       "      <td>0</td>\n",
       "      <td>33.6</td>\n",
       "      <td>0.627</td>\n",
       "      <td>50</td>\n",
       "      <td>1</td>\n",
       "    </tr>\n",
       "    <tr>\n",
       "      <th>1</th>\n",
       "      <td>1</td>\n",
       "      <td>85</td>\n",
       "      <td>66</td>\n",
       "      <td>29</td>\n",
       "      <td>0</td>\n",
       "      <td>26.6</td>\n",
       "      <td>0.351</td>\n",
       "      <td>31</td>\n",
       "      <td>0</td>\n",
       "    </tr>\n",
       "    <tr>\n",
       "      <th>2</th>\n",
       "      <td>8</td>\n",
       "      <td>183</td>\n",
       "      <td>64</td>\n",
       "      <td>0</td>\n",
       "      <td>0</td>\n",
       "      <td>23.3</td>\n",
       "      <td>0.672</td>\n",
       "      <td>32</td>\n",
       "      <td>1</td>\n",
       "    </tr>\n",
       "    <tr>\n",
       "      <th>3</th>\n",
       "      <td>1</td>\n",
       "      <td>89</td>\n",
       "      <td>66</td>\n",
       "      <td>23</td>\n",
       "      <td>94</td>\n",
       "      <td>28.1</td>\n",
       "      <td>0.167</td>\n",
       "      <td>21</td>\n",
       "      <td>0</td>\n",
       "    </tr>\n",
       "    <tr>\n",
       "      <th>4</th>\n",
       "      <td>0</td>\n",
       "      <td>137</td>\n",
       "      <td>40</td>\n",
       "      <td>35</td>\n",
       "      <td>168</td>\n",
       "      <td>43.1</td>\n",
       "      <td>2.288</td>\n",
       "      <td>33</td>\n",
       "      <td>1</td>\n",
       "    </tr>\n",
       "  </tbody>\n",
       "</table>\n",
       "</div>"
      ],
      "text/plain": [
       "   Pregnancies  Glucose  BloodPressure  SkinThickness  Insulin   BMI  \\\n",
       "0            6      148             72             35        0  33.6   \n",
       "1            1       85             66             29        0  26.6   \n",
       "2            8      183             64              0        0  23.3   \n",
       "3            1       89             66             23       94  28.1   \n",
       "4            0      137             40             35      168  43.1   \n",
       "\n",
       "   DiabetesPedigreeFunction  Age  Outcome  \n",
       "0                     0.627   50        1  \n",
       "1                     0.351   31        0  \n",
       "2                     0.672   32        1  \n",
       "3                     0.167   21        0  \n",
       "4                     2.288   33        1  "
      ]
     },
     "execution_count": 2,
     "metadata": {},
     "output_type": "execute_result"
    }
   ],
   "source": [
    "df.head()"
   ]
  },
  {
   "cell_type": "code",
   "execution_count": 3,
   "metadata": {
    "execution": {
     "iopub.execute_input": "2021-10-06T06:57:06.646420Z",
     "iopub.status.busy": "2021-10-06T06:57:06.646206Z",
     "iopub.status.idle": "2021-10-06T06:57:06.650864Z",
     "shell.execute_reply": "2021-10-06T06:57:06.650026Z",
     "shell.execute_reply.started": "2021-10-06T06:57:06.646396Z"
    }
   },
   "outputs": [],
   "source": [
    "df=pd.DataFrame(df)"
   ]
  },
  {
   "cell_type": "code",
   "execution_count": 4,
   "metadata": {
    "execution": {
     "iopub.execute_input": "2021-10-06T06:57:06.654224Z",
     "iopub.status.busy": "2021-10-06T06:57:06.653770Z",
     "iopub.status.idle": "2021-10-06T06:57:06.665172Z",
     "shell.execute_reply": "2021-10-06T06:57:06.664298Z",
     "shell.execute_reply.started": "2021-10-06T06:57:06.654181Z"
    }
   },
   "outputs": [
    {
     "data": {
      "text/plain": [
       "array([1, 0], dtype=int64)"
      ]
     },
     "execution_count": 4,
     "metadata": {},
     "output_type": "execute_result"
    }
   ],
   "source": [
    "df['Outcome'].unique()"
   ]
  },
  {
   "cell_type": "markdown",
   "metadata": {},
   "source": [
    "1-have Diabetes\n",
    "0-no diabetes"
   ]
  },
  {
   "cell_type": "code",
   "execution_count": 5,
   "metadata": {
    "execution": {
     "iopub.execute_input": "2021-10-06T06:57:06.666578Z",
     "iopub.status.busy": "2021-10-06T06:57:06.666364Z",
     "iopub.status.idle": "2021-10-06T06:57:06.676773Z",
     "shell.execute_reply": "2021-10-06T06:57:06.676000Z",
     "shell.execute_reply.started": "2021-10-06T06:57:06.666555Z"
    }
   },
   "outputs": [],
   "source": [
    "X=df[df.columns[:8]]\n",
    "y=df['Outcome']"
   ]
  },
  {
   "cell_type": "code",
   "execution_count": 6,
   "metadata": {
    "execution": {
     "iopub.execute_input": "2021-10-06T06:57:06.678314Z",
     "iopub.status.busy": "2021-10-06T06:57:06.678041Z",
     "iopub.status.idle": "2021-10-06T06:57:07.012233Z",
     "shell.execute_reply": "2021-10-06T06:57:07.011418Z",
     "shell.execute_reply.started": "2021-10-06T06:57:06.678289Z"
    }
   },
   "outputs": [],
   "source": [
    "from sklearn.model_selection import train_test_split\n",
    "X_train,X_test,y_train,y_test=train_test_split(X,y,random_state=0)"
   ]
  },
  {
   "cell_type": "code",
   "execution_count": 7,
   "metadata": {
    "execution": {
     "iopub.execute_input": "2021-10-06T06:57:07.015898Z",
     "iopub.status.busy": "2021-10-06T06:57:07.015680Z",
     "iopub.status.idle": "2021-10-06T06:57:07.266689Z",
     "shell.execute_reply": "2021-10-06T06:57:07.265879Z",
     "shell.execute_reply.started": "2021-10-06T06:57:07.015873Z"
    }
   },
   "outputs": [
    {
     "data": {
      "text/plain": [
       "ExtraTreesRegressor()"
      ]
     },
     "execution_count": 7,
     "metadata": {},
     "output_type": "execute_result"
    }
   ],
   "source": [
    "from sklearn.ensemble import ExtraTreesRegressor\n",
    "import matplotlib.pyplot as plt\n",
    "model = ExtraTreesRegressor()\n",
    "model.fit(X,y)"
   ]
  },
  {
   "cell_type": "code",
   "execution_count": 8,
   "metadata": {
    "execution": {
     "iopub.execute_input": "2021-10-06T06:57:07.268310Z",
     "iopub.status.busy": "2021-10-06T06:57:07.268017Z",
     "iopub.status.idle": "2021-10-06T06:57:07.283336Z",
     "shell.execute_reply": "2021-10-06T06:57:07.282576Z",
     "shell.execute_reply.started": "2021-10-06T06:57:07.268283Z"
    }
   },
   "outputs": [
    {
     "data": {
      "text/plain": [
       "array([0.10008895, 0.28825828, 0.09201431, 0.06399816, 0.06769711,\n",
       "       0.13777404, 0.10880099, 0.14136817])"
      ]
     },
     "execution_count": 8,
     "metadata": {},
     "output_type": "execute_result"
    }
   ],
   "source": [
    "model.feature_importances_"
   ]
  },
  {
   "cell_type": "code",
   "execution_count": 9,
   "metadata": {
    "execution": {
     "iopub.execute_input": "2021-10-06T06:57:07.284817Z",
     "iopub.status.busy": "2021-10-06T06:57:07.284604Z",
     "iopub.status.idle": "2021-10-06T06:57:07.542392Z",
     "shell.execute_reply": "2021-10-06T06:57:07.541529Z",
     "shell.execute_reply.started": "2021-10-06T06:57:07.284793Z"
    }
   },
   "outputs": [
    {
     "data": {
      "text/plain": [
       "<AxesSubplot:>"
      ]
     },
     "execution_count": 9,
     "metadata": {},
     "output_type": "execute_result"
    },
    {
     "data": {
      "image/png": "[encoded data removed]",
      "text/plain": [
       "<Figure size 432x288 with 1 Axes>"
      ]
     },
     "metadata": {
      "needs_background": "light"
     },
     "output_type": "display_data"
    }
   ],
   "source": [
    "f_impo=pd.Series(model.feature_importances_,index=X.columns)\n",
    "f_impo.plot(kind='barh')"
   ]
  },
  {
   "cell_type": "code",
   "execution_count": 10,
   "metadata": {
    "execution": {
     "iopub.execute_input": "2021-10-06T06:57:07.543820Z",
     "iopub.status.busy": "2021-10-06T06:57:07.543605Z",
     "iopub.status.idle": "2021-10-06T06:57:07.786725Z",
     "shell.execute_reply": "2021-10-06T06:57:07.786129Z",
     "shell.execute_reply.started": "2021-10-06T06:57:07.543795Z"
    }
   },
   "outputs": [
    {
     "data": {
      "text/plain": [
       "RandomForestClassifier()"
      ]
     },
     "execution_count": 10,
     "metadata": {},
     "output_type": "execute_result"
    }
   ],
   "source": [
    "from sklearn.ensemble import RandomForestClassifier\n",
    "rfc=RandomForestClassifier()\n",
    "rfc.fit(X_train,y_train)"
   ]
  },
  {
   "cell_type": "code",
   "execution_count": 11,
   "metadata": {
    "execution": {
     "iopub.execute_input": "2021-10-06T06:57:07.788388Z",
     "iopub.status.busy": "2021-10-06T06:57:07.787690Z",
     "iopub.status.idle": "2021-10-06T06:57:07.807966Z",
     "shell.execute_reply": "2021-10-06T06:57:07.807265Z",
     "shell.execute_reply.started": "2021-10-06T06:57:07.788346Z"
    }
   },
   "outputs": [],
   "source": [
    "y_pred=rfc.predict(X_test)"
   ]
  },
  {
   "cell_type": "code",
   "execution_count": 12,
   "metadata": {
    "execution": {
     "iopub.execute_input": "2021-10-06T06:57:07.809530Z",
     "iopub.status.busy": "2021-10-06T06:57:07.809082Z",
     "iopub.status.idle": "2021-10-06T06:57:07.831419Z",
     "shell.execute_reply": "2021-10-06T06:57:07.830536Z",
     "shell.execute_reply.started": "2021-10-06T06:57:07.809496Z"
    }
   },
   "outputs": [
    {
     "data": {
      "text/plain": [
       "0.78125"
      ]
     },
     "execution_count": 12,
     "metadata": {},
     "output_type": "execute_result"
    }
   ],
   "source": [
    "rfc.score(X_test,y_test)"
   ]
  },
  {
   "cell_type": "code",
   "execution_count": 13,
   "metadata": {
    "execution": {
     "iopub.execute_input": "2021-10-06T06:57:07.833934Z",
     "iopub.status.busy": "2021-10-06T06:57:07.833707Z",
     "iopub.status.idle": "2021-10-06T06:57:07.859852Z",
     "shell.execute_reply": "2021-10-06T06:57:07.859145Z",
     "shell.execute_reply.started": "2021-10-06T06:57:07.833909Z"
    }
   },
   "outputs": [
    {
     "data": {
      "text/plain": [
       "1.0"
      ]
     },
     "execution_count": 13,
     "metadata": {},
     "output_type": "execute_result"
    }
   ],
   "source": [
    "rfc.score(X_train,y_train)"
   ]
  },
  {
   "cell_type": "code",
   "execution_count": 15,
   "metadata": {
    "execution": {
     "iopub.execute_input": "2021-10-06T06:59:32.988686Z",
     "iopub.status.busy": "2021-10-06T06:59:32.987800Z",
     "iopub.status.idle": "2021-10-06T06:59:33.001063Z",
     "shell.execute_reply": "2021-10-06T06:59:32.999942Z",
     "shell.execute_reply.started": "2021-10-06T06:59:32.988651Z"
    }
   },
   "outputs": [
    {
     "data": {
      "text/plain": [
       "0.78125"
      ]
     },
     "execution_count": 15,
     "metadata": {},
     "output_type": "execute_result"
    }
   ],
   "source": [
    "import numpy as np\n",
    "np.mean(y_pred==y_test)"
   ]
  },
  {
   "cell_type": "code",
   "execution_count": 16,
   "metadata": {},
   "outputs": [],
   "source": [
    "from sklearn.linear_model import LogisticRegression\n",
    "lr=LogisticRegression()"
   ]
  },
  {
   "cell_type": "code",
   "execution_count": 17,
   "metadata": {},
   "outputs": [
    {
     "name": "stderr",
     "output_type": "stream",
     "text": [
      "D:\\ProgramData\\lib\\site-packages\\sklearn\\linear_model\\_logistic.py:762: ConvergenceWarning: lbfgs failed to converge (status=1):\n",
      "STOP: TOTAL NO. of ITERATIONS REACHED LIMIT.\n",
      "\n",
      "Increase the number of iterations (max_iter) or scale the data as shown in:\n",
      "    https://scikit-learn.org/stable/modules/preprocessing.html\n",
      "Please also refer to the documentation for alternative solver options:\n",
      "    https://scikit-learn.org/stable/modules/linear_model.html#logistic-regression\n",
      "  n_iter_i = _check_optimize_result(\n"
     ]
    },
    {
     "data": {
      "text/plain": [
       "LogisticRegression()"
      ]
     },
     "execution_count": 17,
     "metadata": {},
     "output_type": "execute_result"
    }
   ],
   "source": [
    "lr.fit(X_train,y_train)"
   ]
  },
  {
   "cell_type": "code",
   "execution_count": 18,
   "metadata": {},
   "outputs": [
    {
     "data": {
      "text/plain": [
       "0.7916666666666666"
      ]
     },
     "execution_count": 18,
     "metadata": {},
     "output_type": "execute_result"
    }
   ],
   "source": [
    "lr.score(X_test,y_test)"
   ]
  },
  {
   "cell_type": "code",
   "execution_count": 19,
   "metadata": {},
   "outputs": [
    {
     "data": {
      "text/plain": [
       "0.7708333333333334"
      ]
     },
     "execution_count": 19,
     "metadata": {},
     "output_type": "execute_result"
    }
   ],
   "source": [
    "lr.score(X_train,y_train)"
   ]
  },
  {
   "cell_type": "code",
   "execution_count": 20,
   "metadata": {},
   "outputs": [],
   "source": [
    "y_pred1=lr.predict(X_test)"
   ]
  },
  {
   "cell_type": "code",
   "execution_count": 21,
   "metadata": {},
   "outputs": [
    {
     "data": {
      "text/plain": [
       "0.78125"
      ]
     },
     "execution_count": 21,
     "metadata": {},
     "output_type": "execute_result"
    }
   ],
   "source": [
    "np.mean(y_pred==y_test)"
   ]
  },
  {
   "cell_type": "code",
   "execution_count": 22,
   "metadata": {},
   "outputs": [],
   "source": [
    "from sklearn.linear_model import PassiveAggressiveClassifier\n",
    "pac=PassiveAggressiveClassifier()"
   ]
  },
  {
   "cell_type": "code",
   "execution_count": 23,
   "metadata": {},
   "outputs": [
    {
     "data": {
      "text/plain": [
       "PassiveAggressiveClassifier()"
      ]
     },
     "execution_count": 23,
     "metadata": {},
     "output_type": "execute_result"
    }
   ],
   "source": [
    "pac.fit(X_train,y_train)"
   ]
  },
  {
   "cell_type": "code",
   "execution_count": 24,
   "metadata": {},
   "outputs": [
    {
     "data": {
      "text/plain": [
       "0.6388888888888888"
      ]
     },
     "execution_count": 24,
     "metadata": {},
     "output_type": "execute_result"
    }
   ],
   "source": [
    "pac.score(X_train,y_train)"
   ]
  },
  {
   "cell_type": "code",
   "execution_count": 25,
   "metadata": {},
   "outputs": [
    {
     "data": {
      "text/plain": [
       "0.6822916666666666"
      ]
     },
     "execution_count": 25,
     "metadata": {},
     "output_type": "execute_result"
    }
   ],
   "source": [
    "pac.score(X_test,y_test)"
   ]
  },
  {
   "cell_type": "code",
   "execution_count": 26,
   "metadata": {},
   "outputs": [
    {
     "data": {
      "text/plain": [
       "0.6822916666666666"
      ]
     },
     "execution_count": 26,
     "metadata": {},
     "output_type": "execute_result"
    }
   ],
   "source": [
    "y_pred2=pac.predict(X_test)\n",
    "np.mean(y_pred2==y_test)"
   ]
  },
  {
   "cell_type": "code",
   "execution_count": 27,
   "metadata": {},
   "outputs": [],
   "source": [
    "from sklearn.neighbors import KNeighborsClassifier\n",
    "knn=KNeighborsClassifier()"
   ]
  },
  {
   "cell_type": "code",
   "execution_count": 29,
   "metadata": {},
   "outputs": [
    {
     "data": {
      "text/plain": [
       "KNeighborsClassifier()"
      ]
     },
     "execution_count": 29,
     "metadata": {},
     "output_type": "execute_result"
    }
   ],
   "source": [
    "knn.fit(X_train,y_train)"
   ]
  },
  {
   "cell_type": "code",
   "execution_count": 30,
   "metadata": {},
   "outputs": [
    {
     "data": {
      "text/plain": [
       "0.7864583333333334"
      ]
     },
     "execution_count": 30,
     "metadata": {},
     "output_type": "execute_result"
    }
   ],
   "source": [
    "knn.score(X_train,y_train)"
   ]
  },
  {
   "cell_type": "code",
   "execution_count": 31,
   "metadata": {},
   "outputs": [
    {
     "data": {
      "text/plain": [
       "0.7552083333333334"
      ]
     },
     "execution_count": 31,
     "metadata": {},
     "output_type": "execute_result"
    }
   ],
   "source": [
    "knn.score(X_test,y_test)"
   ]
  },
  {
   "cell_type": "code",
   "execution_count": 32,
   "metadata": {},
   "outputs": [],
   "source": [
    "y_pred3=knn.predict(X_test)"
   ]
  },
  {
   "cell_type": "code",
   "execution_count": 33,
   "metadata": {},
   "outputs": [
    {
     "data": {
      "text/plain": [
       "0.7552083333333334"
      ]
     },
     "execution_count": 33,
     "metadata": {},
     "output_type": "execute_result"
    }
   ],
   "source": [
    "np.mean(y_pred3==y_test)"
   ]
  },
  {
   "cell_type": "code",
   "execution_count": 37,
   "metadata": {},
   "outputs": [],
   "source": [
    "from sklearn.naive_bayes import GaussianNB\n",
    "gb=GaussianNB()"
   ]
  },
  {
   "cell_type": "code",
   "execution_count": 38,
   "metadata": {},
   "outputs": [
    {
     "data": {
      "text/plain": [
       "GaussianNB()"
      ]
     },
     "execution_count": 38,
     "metadata": {},
     "output_type": "execute_result"
    }
   ],
   "source": [
    "gb.fit(X_train,y_train)"
   ]
  },
  {
   "cell_type": "code",
   "execution_count": 39,
   "metadata": {},
   "outputs": [
    {
     "data": {
      "text/plain": [
       "0.765625"
      ]
     },
     "execution_count": 39,
     "metadata": {},
     "output_type": "execute_result"
    }
   ],
   "source": [
    "gb.score(X_train,y_train)"
   ]
  },
  {
   "cell_type": "code",
   "execution_count": 40,
   "metadata": {},
   "outputs": [
    {
     "data": {
      "text/plain": [
       "0.765625"
      ]
     },
     "execution_count": 40,
     "metadata": {},
     "output_type": "execute_result"
    }
   ],
   "source": [
    "gb.score(X_test,y_test)"
   ]
  },
  {
   "cell_type": "code",
   "execution_count": 42,
   "metadata": {},
   "outputs": [
    {
     "data": {
      "text/plain": [
       "0.765625"
      ]
     },
     "execution_count": 42,
     "metadata": {},
     "output_type": "execute_result"
    }
   ],
   "source": [
    "y_pred4=gb.predict(X_test)\n",
    "np.mean(y_pred4==y_test)"
   ]
  },
  {
   "cell_type": "code",
   "execution_count": 43,
   "metadata": {},
   "outputs": [],
   "source": [
    "from sklearn.tree import DecisionTreeClassifier\n",
    "dc=DecisionTreeClassifier()"
   ]
  },
  {
   "cell_type": "code",
   "execution_count": 44,
   "metadata": {},
   "outputs": [
    {
     "data": {
      "text/plain": [
       "DecisionTreeClassifier()"
      ]
     },
     "execution_count": 44,
     "metadata": {},
     "output_type": "execute_result"
    }
   ],
   "source": [
    "dc.fit(X_train,y_train)"
   ]
  },
  {
   "cell_type": "code",
   "execution_count": 45,
   "metadata": {},
   "outputs": [
    {
     "data": {
      "text/plain": [
       "1.0"
      ]
     },
     "execution_count": 45,
     "metadata": {},
     "output_type": "execute_result"
    }
   ],
   "source": [
    "dc.score(X_train,y_train)"
   ]
  },
  {
   "cell_type": "code",
   "execution_count": 46,
   "metadata": {},
   "outputs": [
    {
     "data": {
      "text/plain": [
       "0.734375"
      ]
     },
     "execution_count": 46,
     "metadata": {},
     "output_type": "execute_result"
    }
   ],
   "source": [
    "dc.score(X_test,y_test)"
   ]
  },
  {
   "cell_type": "code",
   "execution_count": 47,
   "metadata": {},
   "outputs": [
    {
     "data": {
      "text/plain": [
       "0.734375"
      ]
     },
     "execution_count": 47,
     "metadata": {},
     "output_type": "execute_result"
    }
   ],
   "source": [
    "y_pred5=dc.predict(X_test)\n",
    "np.mean(y_pred5==y_test)"
   ]
  },
  {
   "cell_type": "code",
   "execution_count": 80,
   "metadata": {},
   "outputs": [
    {
     "name": "stdout",
     "output_type": "stream",
     "text": [
      "[100, 506, 912, 1318, 1724, 2130, 2536, 2942, 3348, 3755, 4161, 4567, 4973, 5379, 5785, 6191, 6597, 7004, 7410, 7816, 8222, 8628, 9034, 9440, 9846, 10253, 10659, 11065, 11471, 11877, 12283, 12689, 13095, 13502, 13908, 14314, 14720, 15126, 15532, 15938, 16344, 16751, 17157, 17563, 17969, 18375, 18781, 19187, 19593, 20000]\n"
     ]
    }
   ],
   "source": [
    "n_estimators = [int(x) for x in np.linspace(start = 100, stop = 20000, num = 50)]\n",
    "print(n_estimators)"
   ]
  },
  {
   "cell_type": "code",
   "execution_count": 81,
   "metadata": {},
   "outputs": [],
   "source": [
    "n_estimators = [int(x) for x in np.linspace(start = 100, stop = 20000, num = 50)]\n",
    "max_features = ['auto', 'sqrt']\n",
    "max_depth = [int(x) for x in np.linspace(5, 80, num = 6)]\n",
    "min_samples_split = [2, 5, 10, 15, 100,250,500]\n",
    "min_samples_leaf = [1, 2, 5, 10,20,40,80,160,320]"
   ]
  },
  {
   "cell_type": "code",
   "execution_count": 82,
   "metadata": {},
   "outputs": [
    {
     "name": "stdout",
     "output_type": "stream",
     "text": [
      "{'n_estimators': [100, 506, 912, 1318, 1724, 2130, 2536, 2942, 3348, 3755, 4161, 4567, 4973, 5379, 5785, 6191, 6597, 7004, 7410, 7816, 8222, 8628, 9034, 9440, 9846, 10253, 10659, 11065, 11471, 11877, 12283, 12689, 13095, 13502, 13908, 14314, 14720, 15126, 15532, 15938, 16344, 16751, 17157, 17563, 17969, 18375, 18781, 19187, 19593, 20000], 'max_features': ['auto', 'sqrt'], 'max_depth': [5, 20, 35, 50, 65, 80], 'min_samples_split': [2, 5, 10, 15, 100, 250, 500], 'min_samples_leaf': [1, 2, 5, 10, 20, 40, 80, 160, 320]}\n"
     ]
    }
   ],
   "source": [
    "random_grid = {'n_estimators': n_estimators,\n",
    "               'max_features': max_features,\n",
    "               'max_depth': max_depth,\n",
    "               'min_samples_split': min_samples_split,\n",
    "               'min_samples_leaf': min_samples_leaf}\n",
    "\n",
    "print(random_grid)"
   ]
  },
  {
   "cell_type": "code",
   "execution_count": 83,
   "metadata": {},
   "outputs": [],
   "source": [
    "from sklearn.model_selection import RandomizedSearchCV\n",
    "rf_random = RandomizedSearchCV(estimator = rfc, param_distributions = random_grid,scoring='neg_mean_squared_error', n_iter = 10, cv = 5, verbose=2, random_state=42, n_jobs = 1)"
   ]
  },
  {
   "cell_type": "code",
   "execution_count": 84,
   "metadata": {},
   "outputs": [
    {
     "name": "stdout",
     "output_type": "stream",
     "text": [
      "Fitting 5 folds for each of 10 candidates, totalling 50 fits\n",
      "[CV] n_estimators=18375, min_samples_split=2, min_samples_leaf=1, max_features=sqrt, max_depth=35 \n"
     ]
    },
    {
     "name": "stderr",
     "output_type": "stream",
     "text": [
      "[Parallel(n_jobs=1)]: Using backend SequentialBackend with 1 concurrent workers.\n"
     ]
    },
    {
     "name": "stdout",
     "output_type": "stream",
     "text": [
      "[CV]  n_estimators=18375, min_samples_split=2, min_samples_leaf=1, max_features=sqrt, max_depth=35, total=  26.1s\n",
      "[CV] n_estimators=18375, min_samples_split=2, min_samples_leaf=1, max_features=sqrt, max_depth=35 \n"
     ]
    },
    {
     "name": "stderr",
     "output_type": "stream",
     "text": [
      "[Parallel(n_jobs=1)]: Done   1 out of   1 | elapsed:   26.0s remaining:    0.0s\n"
     ]
    },
    {
     "name": "stdout",
     "output_type": "stream",
     "text": [
      "[CV]  n_estimators=18375, min_samples_split=2, min_samples_leaf=1, max_features=sqrt, max_depth=35, total=  25.2s\n",
      "[CV] n_estimators=18375, min_samples_split=2, min_samples_leaf=1, max_features=sqrt, max_depth=35 \n",
      "[CV]  n_estimators=18375, min_samples_split=2, min_samples_leaf=1, max_features=sqrt, max_depth=35, total=  26.6s\n",
      "[CV] n_estimators=18375, min_samples_split=2, min_samples_leaf=1, max_features=sqrt, max_depth=35 \n",
      "[CV]  n_estimators=18375, min_samples_split=2, min_samples_leaf=1, max_features=sqrt, max_depth=35, total=  25.5s\n",
      "[CV] n_estimators=18375, min_samples_split=2, min_samples_leaf=1, max_features=sqrt, max_depth=35 \n",
      "[CV]  n_estimators=18375, min_samples_split=2, min_samples_leaf=1, max_features=sqrt, max_depth=35, total=  25.8s\n",
      "[CV] n_estimators=4161, min_samples_split=15, min_samples_leaf=5, max_features=auto, max_depth=5 \n",
      "[CV]  n_estimators=4161, min_samples_split=15, min_samples_leaf=5, max_features=auto, max_depth=5, total=   4.9s\n",
      "[CV] n_estimators=4161, min_samples_split=15, min_samples_leaf=5, max_features=auto, max_depth=5 \n",
      "[CV]  n_estimators=4161, min_samples_split=15, min_samples_leaf=5, max_features=auto, max_depth=5, total=   5.0s\n",
      "[CV] n_estimators=4161, min_samples_split=15, min_samples_leaf=5, max_features=auto, max_depth=5 \n",
      "[CV]  n_estimators=4161, min_samples_split=15, min_samples_leaf=5, max_features=auto, max_depth=5, total=   4.8s\n",
      "[CV] n_estimators=4161, min_samples_split=15, min_samples_leaf=5, max_features=auto, max_depth=5 \n",
      "[CV]  n_estimators=4161, min_samples_split=15, min_samples_leaf=5, max_features=auto, max_depth=5, total=   4.8s\n",
      "[CV] n_estimators=4161, min_samples_split=15, min_samples_leaf=5, max_features=auto, max_depth=5 \n",
      "[CV]  n_estimators=4161, min_samples_split=15, min_samples_leaf=5, max_features=auto, max_depth=5, total=   4.9s\n",
      "[CV] n_estimators=13908, min_samples_split=5, min_samples_leaf=40, max_features=sqrt, max_depth=20 \n",
      "[CV]  n_estimators=13908, min_samples_split=5, min_samples_leaf=40, max_features=sqrt, max_depth=20, total=  16.0s\n",
      "[CV] n_estimators=13908, min_samples_split=5, min_samples_leaf=40, max_features=sqrt, max_depth=20 \n",
      "[CV]  n_estimators=13908, min_samples_split=5, min_samples_leaf=40, max_features=sqrt, max_depth=20, total=  16.4s\n",
      "[CV] n_estimators=13908, min_samples_split=5, min_samples_leaf=40, max_features=sqrt, max_depth=20 \n",
      "[CV]  n_estimators=13908, min_samples_split=5, min_samples_leaf=40, max_features=sqrt, max_depth=20, total=  16.4s\n",
      "[CV] n_estimators=13908, min_samples_split=5, min_samples_leaf=40, max_features=sqrt, max_depth=20 \n",
      "[CV]  n_estimators=13908, min_samples_split=5, min_samples_leaf=40, max_features=sqrt, max_depth=20, total=  16.2s\n",
      "[CV] n_estimators=13908, min_samples_split=5, min_samples_leaf=40, max_features=sqrt, max_depth=20 \n",
      "[CV]  n_estimators=13908, min_samples_split=5, min_samples_leaf=40, max_features=sqrt, max_depth=20, total=  15.6s\n",
      "[CV] n_estimators=6191, min_samples_split=500, min_samples_leaf=320, max_features=sqrt, max_depth=5 \n",
      "[CV]  n_estimators=6191, min_samples_split=500, min_samples_leaf=320, max_features=sqrt, max_depth=5, total=   6.4s\n",
      "[CV] n_estimators=6191, min_samples_split=500, min_samples_leaf=320, max_features=sqrt, max_depth=5 \n",
      "[CV]  n_estimators=6191, min_samples_split=500, min_samples_leaf=320, max_features=sqrt, max_depth=5, total=   6.4s\n",
      "[CV] n_estimators=6191, min_samples_split=500, min_samples_leaf=320, max_features=sqrt, max_depth=5 \n",
      "[CV]  n_estimators=6191, min_samples_split=500, min_samples_leaf=320, max_features=sqrt, max_depth=5, total=   6.6s\n",
      "[CV] n_estimators=6191, min_samples_split=500, min_samples_leaf=320, max_features=sqrt, max_depth=5 \n",
      "[CV]  n_estimators=6191, min_samples_split=500, min_samples_leaf=320, max_features=sqrt, max_depth=5, total=   6.3s\n",
      "[CV] n_estimators=6191, min_samples_split=500, min_samples_leaf=320, max_features=sqrt, max_depth=5 \n",
      "[CV]  n_estimators=6191, min_samples_split=500, min_samples_leaf=320, max_features=sqrt, max_depth=5, total=   6.2s\n",
      "[CV] n_estimators=100, min_samples_split=5, min_samples_leaf=10, max_features=sqrt, max_depth=35 \n",
      "[CV]  n_estimators=100, min_samples_split=5, min_samples_leaf=10, max_features=sqrt, max_depth=35, total=   0.1s\n",
      "[CV] n_estimators=100, min_samples_split=5, min_samples_leaf=10, max_features=sqrt, max_depth=35 \n",
      "[CV]  n_estimators=100, min_samples_split=5, min_samples_leaf=10, max_features=sqrt, max_depth=35, total=   0.1s\n",
      "[CV] n_estimators=100, min_samples_split=5, min_samples_leaf=10, max_features=sqrt, max_depth=35 \n",
      "[CV]  n_estimators=100, min_samples_split=5, min_samples_leaf=10, max_features=sqrt, max_depth=35, total=   0.2s\n",
      "[CV] n_estimators=100, min_samples_split=5, min_samples_leaf=10, max_features=sqrt, max_depth=35 \n",
      "[CV]  n_estimators=100, min_samples_split=5, min_samples_leaf=10, max_features=sqrt, max_depth=35, total=   0.1s\n",
      "[CV] n_estimators=100, min_samples_split=5, min_samples_leaf=10, max_features=sqrt, max_depth=35 \n",
      "[CV]  n_estimators=100, min_samples_split=5, min_samples_leaf=10, max_features=sqrt, max_depth=35, total=   0.1s\n",
      "[CV] n_estimators=17969, min_samples_split=5, min_samples_leaf=160, max_features=sqrt, max_depth=80 \n",
      "[CV]  n_estimators=17969, min_samples_split=5, min_samples_leaf=160, max_features=sqrt, max_depth=80, total=  18.3s\n",
      "[CV] n_estimators=17969, min_samples_split=5, min_samples_leaf=160, max_features=sqrt, max_depth=80 \n",
      "[CV]  n_estimators=17969, min_samples_split=5, min_samples_leaf=160, max_features=sqrt, max_depth=80, total=  18.7s\n",
      "[CV] n_estimators=17969, min_samples_split=5, min_samples_leaf=160, max_features=sqrt, max_depth=80 \n",
      "[CV]  n_estimators=17969, min_samples_split=5, min_samples_leaf=160, max_features=sqrt, max_depth=80, total=  18.1s\n",
      "[CV] n_estimators=17969, min_samples_split=5, min_samples_leaf=160, max_features=sqrt, max_depth=80 \n",
      "[CV]  n_estimators=17969, min_samples_split=5, min_samples_leaf=160, max_features=sqrt, max_depth=80, total=  18.1s\n",
      "[CV] n_estimators=17969, min_samples_split=5, min_samples_leaf=160, max_features=sqrt, max_depth=80 \n",
      "[CV]  n_estimators=17969, min_samples_split=5, min_samples_leaf=160, max_features=sqrt, max_depth=80, total=  18.3s\n",
      "[CV] n_estimators=4973, min_samples_split=250, min_samples_leaf=320, max_features=auto, max_depth=50 \n",
      "[CV]  n_estimators=4973, min_samples_split=250, min_samples_leaf=320, max_features=auto, max_depth=50, total=   4.8s\n",
      "[CV] n_estimators=4973, min_samples_split=250, min_samples_leaf=320, max_features=auto, max_depth=50 \n",
      "[CV]  n_estimators=4973, min_samples_split=250, min_samples_leaf=320, max_features=auto, max_depth=50, total=   4.9s\n",
      "[CV] n_estimators=4973, min_samples_split=250, min_samples_leaf=320, max_features=auto, max_depth=50 \n",
      "[CV]  n_estimators=4973, min_samples_split=250, min_samples_leaf=320, max_features=auto, max_depth=50, total=   5.1s\n",
      "[CV] n_estimators=4973, min_samples_split=250, min_samples_leaf=320, max_features=auto, max_depth=50 \n",
      "[CV]  n_estimators=4973, min_samples_split=250, min_samples_leaf=320, max_features=auto, max_depth=50, total=   5.0s\n",
      "[CV] n_estimators=4973, min_samples_split=250, min_samples_leaf=320, max_features=auto, max_depth=50 \n",
      "[CV]  n_estimators=4973, min_samples_split=250, min_samples_leaf=320, max_features=auto, max_depth=50, total=   5.1s\n",
      "[CV] n_estimators=9440, min_samples_split=250, min_samples_leaf=1, max_features=sqrt, max_depth=35 \n",
      "[CV]  n_estimators=9440, min_samples_split=250, min_samples_leaf=1, max_features=sqrt, max_depth=35, total=  10.4s\n",
      "[CV] n_estimators=9440, min_samples_split=250, min_samples_leaf=1, max_features=sqrt, max_depth=35 \n",
      "[CV]  n_estimators=9440, min_samples_split=250, min_samples_leaf=1, max_features=sqrt, max_depth=35, total=  10.3s\n",
      "[CV] n_estimators=9440, min_samples_split=250, min_samples_leaf=1, max_features=sqrt, max_depth=35 \n",
      "[CV]  n_estimators=9440, min_samples_split=250, min_samples_leaf=1, max_features=sqrt, max_depth=35, total=  10.4s\n",
      "[CV] n_estimators=9440, min_samples_split=250, min_samples_leaf=1, max_features=sqrt, max_depth=35 \n",
      "[CV]  n_estimators=9440, min_samples_split=250, min_samples_leaf=1, max_features=sqrt, max_depth=35, total=  10.3s\n",
      "[CV] n_estimators=9440, min_samples_split=250, min_samples_leaf=1, max_features=sqrt, max_depth=35 \n",
      "[CV]  n_estimators=9440, min_samples_split=250, min_samples_leaf=1, max_features=sqrt, max_depth=35, total=  10.0s\n",
      "[CV] n_estimators=14314, min_samples_split=250, min_samples_leaf=20, max_features=auto, max_depth=5 \n",
      "[CV]  n_estimators=14314, min_samples_split=250, min_samples_leaf=20, max_features=auto, max_depth=5, total=  15.6s\n",
      "[CV] n_estimators=14314, min_samples_split=250, min_samples_leaf=20, max_features=auto, max_depth=5 \n",
      "[CV]  n_estimators=14314, min_samples_split=250, min_samples_leaf=20, max_features=auto, max_depth=5, total=  15.0s\n",
      "[CV] n_estimators=14314, min_samples_split=250, min_samples_leaf=20, max_features=auto, max_depth=5 \n",
      "[CV]  n_estimators=14314, min_samples_split=250, min_samples_leaf=20, max_features=auto, max_depth=5, total=  16.3s\n",
      "[CV] n_estimators=14314, min_samples_split=250, min_samples_leaf=20, max_features=auto, max_depth=5 \n",
      "[CV]  n_estimators=14314, min_samples_split=250, min_samples_leaf=20, max_features=auto, max_depth=5, total=  15.5s\n",
      "[CV] n_estimators=14314, min_samples_split=250, min_samples_leaf=20, max_features=auto, max_depth=5 \n",
      "[CV]  n_estimators=14314, min_samples_split=250, min_samples_leaf=20, max_features=auto, max_depth=5, total=  15.2s\n",
      "[CV] n_estimators=7816, min_samples_split=5, min_samples_leaf=5, max_features=auto, max_depth=5 \n",
      "[CV]  n_estimators=7816, min_samples_split=5, min_samples_leaf=5, max_features=auto, max_depth=5, total=   9.8s\n",
      "[CV] n_estimators=7816, min_samples_split=5, min_samples_leaf=5, max_features=auto, max_depth=5 \n",
      "[CV]  n_estimators=7816, min_samples_split=5, min_samples_leaf=5, max_features=auto, max_depth=5, total=   9.6s\n",
      "[CV] n_estimators=7816, min_samples_split=5, min_samples_leaf=5, max_features=auto, max_depth=5 \n",
      "[CV]  n_estimators=7816, min_samples_split=5, min_samples_leaf=5, max_features=auto, max_depth=5, total=   9.8s\n",
      "[CV] n_estimators=7816, min_samples_split=5, min_samples_leaf=5, max_features=auto, max_depth=5 \n",
      "[CV]  n_estimators=7816, min_samples_split=5, min_samples_leaf=5, max_features=auto, max_depth=5, total=   9.7s\n",
      "[CV] n_estimators=7816, min_samples_split=5, min_samples_leaf=5, max_features=auto, max_depth=5 \n",
      "[CV]  n_estimators=7816, min_samples_split=5, min_samples_leaf=5, max_features=auto, max_depth=5, total=   9.2s\n"
     ]
    },
    {
     "name": "stderr",
     "output_type": "stream",
     "text": [
      "[Parallel(n_jobs=1)]: Done  50 out of  50 | elapsed:  9.3min finished\n"
     ]
    },
    {
     "data": {
      "text/plain": [
       "RandomizedSearchCV(cv=5, estimator=RandomForestClassifier(), n_jobs=1,\n",
       "                   param_distributions={'max_depth': [5, 20, 35, 50, 65, 80],\n",
       "                                        'max_features': ['auto', 'sqrt'],\n",
       "                                        'min_samples_leaf': [1, 2, 5, 10, 20,\n",
       "                                                             40, 80, 160, 320],\n",
       "                                        'min_samples_split': [2, 5, 10, 15, 100,\n",
       "                                                              250, 500],\n",
       "                                        'n_estimators': [100, 506, 912, 1318,\n",
       "                                                         1724, 2130, 2536, 2942,\n",
       "                                                         3348, 3755, 4161, 4567,\n",
       "                                                         4973, 5379, 5785, 6191,\n",
       "                                                         6597, 7004, 7410, 7816,\n",
       "                                                         8222, 8628, 9034, 9440,\n",
       "                                                         9846, 10253, 10659,\n",
       "                                                         11065, 11471, 11877, ...]},\n",
       "                   random_state=42, scoring='neg_mean_squared_error',\n",
       "                   verbose=2)"
      ]
     },
     "execution_count": 84,
     "metadata": {},
     "output_type": "execute_result"
    }
   ],
   "source": [
    "rf_random.fit(X_train,y_train)"
   ]
  },
  {
   "cell_type": "code",
   "execution_count": 85,
   "metadata": {},
   "outputs": [],
   "source": [
    "y_predl=rf_random.predict(X_test)"
   ]
  },
  {
   "cell_type": "code",
   "execution_count": 86,
   "metadata": {},
   "outputs": [
    {
     "data": {
      "text/plain": [
       "0.796875"
      ]
     },
     "execution_count": 86,
     "metadata": {},
     "output_type": "execute_result"
    }
   ],
   "source": [
    "np.mean(y_predl==y_test)"
   ]
  },
  {
   "cell_type": "code",
   "execution_count": 90,
   "metadata": {},
   "outputs": [],
   "source": [
    "from sklearn.metrics import confusion_matrix\n",
    "conf_mat=confusion_matrix(y_test,y_predl)"
   ]
  },
  {
   "cell_type": "code",
   "execution_count": 91,
   "metadata": {},
   "outputs": [
    {
     "data": {
      "image/png": "[encoded data removed]",
      "text/plain": [
       "<Figure size 432x288 with 1 Axes>"
      ]
     },
     "metadata": {
      "needs_background": "light"
     },
     "output_type": "display_data"
    }
   ],
   "source": [
    "from mlxtend.plotting import plot_confusion_matrix\n",
    "fig,ax=plot_confusion_matrix(conf_mat=conf_mat)"
   ]
  },
  {
   "cell_type": "code",
   "execution_count": 104,
   "metadata": {},
   "outputs": [
    {
     "data": {
      "text/plain": [
       "<AxesSubplot:>"
      ]
     },
     "execution_count": 104,
     "metadata": {},
     "output_type": "execute_result"
    },
    {
     "data": {
      "image/png": "[encoded data removed]",
      "text/plain": [
       "<Figure size 432x432 with 2 Axes>"
      ]
     },
     "metadata": {
      "needs_background": "light"
     },
     "output_type": "display_data"
    }
   ],
   "source": [
    "import seaborn as sns\n",
    "import matplotlib.pyplot as plt\n",
    "plt.figure(figsize=(6,6))\n",
    "sns.heatmap(df.corr(),annot=True)\n"
   ]
  },
  {
   "cell_type": "code",
   "execution_count": null,
   "metadata": {},
   "outputs": [],
   "source": []
  }
 ],
 "metadata": {
  "kernelspec": {
   "display_name": "Python 3",
   "language": "python",
   "name": "python3"
  },
  "language_info": {
   "codemirror_mode": {
    "name": "ipython",
    "version": 3
   },
   "file_extension": ".py",
   "mimetype": "text/x-python",
   "name": "python",
   "nbconvert_exporter": "python",
   "pygments_lexer": "ipython3",
   "version": "3.8.5"
  }
 },
 "nbformat": 4,
 "nbformat_minor": 4
}
